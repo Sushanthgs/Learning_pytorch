{
 "cells": [
  {
   "cell_type": "code",
   "execution_count": 1,
   "metadata": {},
   "outputs": [],
   "source": [
    "import torch \n",
    "import torch.nn as nn \n",
    "import torch.nn.functional as F \n",
    "import numpy as np \n",
    "import matplotlib.pyplot as plt \n",
    "from torch.utils.data import DataLoader \n",
    "import torchvision "
   ]
  },
  {
   "cell_type": "code",
   "execution_count": 2,
   "metadata": {},
   "outputs": [
    {
     "name": "stdout",
     "output_type": "stream",
     "text": [
      "Files already downloaded and verified\n"
     ]
    }
   ],
   "source": [
    "cifar_train=torchvision.datasets.CIFAR10(root='./CIFAR_10_train_data',train=True,download=True,transform=torchvision.transforms.ToTensor())\n"
   ]
  },
  {
   "cell_type": "code",
   "execution_count": 3,
   "metadata": {},
   "outputs": [
    {
     "name": "stdout",
     "output_type": "stream",
     "text": [
      "Files already downloaded and verified\n"
     ]
    }
   ],
   "source": [
    "cifar_test=torchvision.datasets.CIFAR10(root='./CIFAR_10_train_data',train=False,download=True,transform=torchvision.transforms.ToTensor())\n"
   ]
  },
  {
   "cell_type": "code",
   "execution_count": 4,
   "metadata": {},
   "outputs": [],
   "source": [
    "train_loader=DataLoader(cifar_train,batch_size=64,shuffle=True)\n",
    "test_loader=DataLoader(cifar_test,batch_size=64)"
   ]
  },
  {
   "cell_type": "code",
   "execution_count": 5,
   "metadata": {},
   "outputs": [
    {
     "data": {
      "text/plain": [
       "cifar10_convnet(\n",
       "  (con1): Conv2d(3, 8, kernel_size=(3, 3), stride=(1, 1), padding=(1, 1), padding_mode=replicate)\n",
       "  (con2): Conv2d(8, 16, kernel_size=(3, 3), stride=(1, 1), padding=(1, 1), padding_mode=replicate)\n",
       "  (con3): Conv2d(16, 32, kernel_size=(3, 3), stride=(1, 1), padding=(1, 1), padding_mode=replicate)\n",
       "  (fc1): Linear(in_features=512, out_features=256, bias=True)\n",
       "  (flatten): Flatten(start_dim=1, end_dim=-1)\n",
       "  (fc2): Linear(in_features=256, out_features=128, bias=True)\n",
       "  (fc3): Linear(in_features=128, out_features=64, bias=True)\n",
       "  (fc4): Linear(in_features=64, out_features=10, bias=True)\n",
       ")"
      ]
     },
     "execution_count": 5,
     "metadata": {},
     "output_type": "execute_result"
    }
   ],
   "source": [
    "class cifar10_convnet(nn.Module):\n",
    "    def __init__(self):\n",
    "        super(cifar10_convnet,self).__init__()\n",
    "        self.con1=nn.Conv2d(in_channels=3,out_channels=8,kernel_size=(3,3),stride=1,padding=1,padding_mode='replicate')\n",
    "        self.con2=nn.Conv2d(in_channels=8,out_channels=16,kernel_size=(3,3),stride=1,padding=1,padding_mode='replicate')\n",
    "        self.con3=nn.Conv2d(in_channels=16,out_channels=32,kernel_size=(3,3),stride=1,padding=1,padding_mode='replicate')\n",
    "        self.fc1=nn.Linear(4*8*16,256)\n",
    "        self.flatten=nn.Flatten()\n",
    "        self.fc2=nn.Linear(256,128)\n",
    "        self.fc3=nn.Linear(128,64)\n",
    "        self.fc4=nn.Linear(64,10)\n",
    "    def forward(self,X):\n",
    "        c1=F.relu(self.con1(X))\n",
    "        p1=F.max_pool2d(c1,2,2)\n",
    "        c2=F.relu(self.con2(p1))\n",
    "        p2=F.max_pool2d(c2,2,2)\n",
    "        c3=F.relu(self.con3(p2))\n",
    "        p3=F.max_pool2d(c3,2,2)\n",
    "        pf=self.flatten(p3)\n",
    "        d1=F.relu(self.fc1(pf))\n",
    "        d2=F.relu(self.fc2(d1))\n",
    "        d3=F.relu(self.fc3(d2))\n",
    "        d4=self.fc4(d3)\n",
    "        return(d4)\n",
    "torch.manual_seed(101)\n",
    "\n",
    "mod=cifar10_convnet()\n",
    "mod"
   ]
  },
  {
   "cell_type": "code",
   "execution_count": 6,
   "metadata": {},
   "outputs": [],
   "source": [
    "crit=nn.CrossEntropyLoss()\n",
    "opt=torch.optim.Adam(mod.parameters())"
   ]
  },
  {
   "cell_type": "code",
   "execution_count": 7,
   "metadata": {},
   "outputs": [
    {
     "name": "stdout",
     "output_type": "stream",
     "text": [
      "_________________Epoch:0_______________________\n",
      "Batch:0 Loss:2.3065\n",
      "Batch:100 Loss:2.1087\n",
      "Batch:200 Loss:1.9175\n",
      "Batch:300 Loss:1.7201\n",
      "Batch:400 Loss:1.7821\n",
      "Batch:500 Loss:1.5294\n",
      "Batch:600 Loss:1.6031\n",
      "Batch:700 Loss:1.5894\n",
      "_________________Epoch:1_______________________\n",
      "Batch:0 Loss:1.5729\n",
      "Batch:100 Loss:1.3050\n",
      "Batch:200 Loss:1.4160\n",
      "Batch:300 Loss:1.7203\n",
      "Batch:400 Loss:1.5560\n",
      "Batch:500 Loss:1.4378\n",
      "Batch:600 Loss:1.3086\n",
      "Batch:700 Loss:1.4901\n",
      "_________________Epoch:2_______________________\n",
      "Batch:0 Loss:1.3553\n",
      "Batch:100 Loss:1.5409\n",
      "Batch:200 Loss:1.3302\n",
      "Batch:300 Loss:1.4459\n",
      "Batch:400 Loss:1.2220\n",
      "Batch:500 Loss:1.3112\n",
      "Batch:600 Loss:1.1892\n",
      "Batch:700 Loss:1.1680\n",
      "_________________Epoch:3_______________________\n",
      "Batch:0 Loss:1.3833\n",
      "Batch:100 Loss:1.1998\n",
      "Batch:200 Loss:1.0940\n",
      "Batch:300 Loss:1.1812\n",
      "Batch:400 Loss:1.5279\n",
      "Batch:500 Loss:1.1655\n",
      "Batch:600 Loss:1.3020\n",
      "Batch:700 Loss:1.1181\n",
      "_________________Epoch:4_______________________\n",
      "Batch:0 Loss:1.3456\n",
      "Batch:100 Loss:0.9933\n",
      "Batch:200 Loss:1.0703\n",
      "Batch:300 Loss:0.8575\n",
      "Batch:400 Loss:0.9924\n",
      "Batch:500 Loss:1.0886\n",
      "Batch:600 Loss:1.0259\n",
      "Batch:700 Loss:0.9717\n"
     ]
    }
   ],
   "source": [
    "def train_single_epoch(d_loader,mod,crit,opt,disp_int=100):\n",
    "    loss_val=[]\n",
    "    for b,ex in enumerate(d_loader):\n",
    "        opt.zero_grad()\n",
    "        preds=mod.forward(ex[0])\n",
    "        loss=crit(preds,ex[1])\n",
    "        loss_val.append(loss.item())\n",
    "        loss.backward()\n",
    "        opt.step()\n",
    "        if(b%disp_int==0):\n",
    "            print(f'Batch:{b} Loss:{loss_val[b]:0.4f}')\n",
    "    return(loss_val,mod)\n",
    "    \n",
    "def train_model(d_loader,mod,crit,opt,num_epochs,disp_int=100):\n",
    "    epoch_loss_all=[]\n",
    "    epoch_loss_mean=[]\n",
    "    for i in range(num_epochs):\n",
    "        print(f'_________________Epoch:{i}_______________________')\n",
    "        losses,mod=train_single_epoch(d_loader,mod,crit,opt,disp_int)\n",
    "        epoch_loss_all.extend(losses)\n",
    "        epoch_loss_mean.append(np.mean(losses))\n",
    "    return(epoch_loss_all,epoch_loss_mean,mod)\n",
    "num_epochs=5\n",
    "epoch_loss_all,epoch_loss_mean,mod=train_model(train_loader,mod,crit,opt,num_epochs,disp_int=100)"
   ]
  },
  {
   "cell_type": "code",
   "execution_count": 13,
   "metadata": {},
   "outputs": [],
   "source": [
    "def eval_mod(d_loader,mod):\n",
    "    true_lab=[]\n",
    "    pred_lab=[]\n",
    "    pred_probs=[]\n",
    "\n",
    "    with torch.no_grad():\n",
    "        for b,ex in enumerate(d_loader):\n",
    "            preds=mod.forward(ex[0])\n",
    "            softmax_prob=torch.softmax(preds,1)\n",
    "            lab=np.argmax(softmax_prob.detach().numpy(),axis=1)\n",
    "            prob=np.max(softmax_prob.detach().numpy(),axis=1)\n",
    "            true_lab.extend(ex[1])\n",
    "            pred_lab.extend(lab)\n",
    "            pred_probs.extend(prob)\n",
    "    return(true_lab,pred_lab,pred_probs)\n",
    "true_lab,pred_lab,pred_probs=eval_mod(test_loader,mod)"
   ]
  },
  {
   "cell_type": "code",
   "execution_count": 11,
   "metadata": {},
   "outputs": [],
   "source": [
    "for b,ex in test_loader:\n",
    "    break"
   ]
  },
  {
   "cell_type": "code",
   "execution_count": 14,
   "metadata": {},
   "outputs": [],
   "source": [
    "def conf_mat(pred_lab,true_lab,num_classes,disp_flag=0):\n",
    "    cm=np.zeros([num_classes,num_classes])\n",
    "    for k in range(len(pred_lab)):\n",
    "        cm[true_lab[k],pred_lab[k]]+=1\n",
    "    if(disp_flag==1):\n",
    "        print(cm)\n",
    "    return(cm)\n",
    "cm=conf_mat(pred_lab,true_lab,10)"
   ]
  },
  {
   "cell_type": "code",
   "execution_count": 15,
   "metadata": {},
   "outputs": [
    {
     "data": {
      "text/plain": [
       "array([[741.,  25.,  57.,  16.,  24.,   4.,  15.,  12.,  74.,  32.],\n",
       "       [ 40., 800.,  11.,   7.,   5.,   5.,  21.,   7.,  17.,  87.],\n",
       "       [ 86.,   8., 438.,  66., 178.,  73.,  89.,  37.,  13.,  12.],\n",
       "       [ 37.,  21.,  94., 391., 121., 137., 129.,  42.,   9.,  19.],\n",
       "       [ 30.,   2.,  97.,  44., 612.,  26.,  98.,  77.,  11.,   3.],\n",
       "       [ 18.,   9.,  88., 201., 102., 414.,  64.,  92.,   7.,   5.],\n",
       "       [ 10.,   5.,  49.,  50.,  74.,  11., 780.,   8.,   7.,   6.],\n",
       "       [ 21.,   7.,  32.,  44., 131.,  60.,  11., 680.,   0.,  14.],\n",
       "       [121.,  55.,  29.,  16.,   8.,   4.,  10.,   5., 728.,  24.],\n",
       "       [ 61., 194.,  11.,  21.,   5.,   5.,  28.,  26.,  22., 627.]])"
      ]
     },
     "execution_count": 15,
     "metadata": {},
     "output_type": "execute_result"
    }
   ],
   "source": [
    "cm"
   ]
  },
  {
   "cell_type": "code",
   "execution_count": 17,
   "metadata": {},
   "outputs": [
    {
     "data": {
      "text/plain": [
       "[<matplotlib.lines.Line2D at 0x249d95d7148>]"
      ]
     },
     "execution_count": 17,
     "metadata": {},
     "output_type": "execute_result"
    },
    {
     "data": {
      "image/png": "[encoded data removed]",
      "text/plain": [
       "<Figure size 432x288 with 1 Axes>"
      ]
     },
     "metadata": {
      "needs_background": "light"
     },
     "output_type": "display_data"
    }
   ],
   "source": [
    "plt.plot(epoch_loss_all)"
   ]
  },
  {
   "cell_type": "code",
   "execution_count": 18,
   "metadata": {},
   "outputs": [
    {
     "data": {
      "text/plain": [
       "0.6211"
      ]
     },
     "execution_count": 18,
     "metadata": {},
     "output_type": "execute_result"
    }
   ],
   "source": [
    "np.sum(np.diag(cm))/10000"
   ]
  }
 ],
 "metadata": {
  "kernelspec": {
   "display_name": "Python 3.7.13 ('venv_torch')",
   "language": "python",
   "name": "python3"
  },
  "language_info": {
   "codemirror_mode": {
    "name": "ipython",
    "version": 3
   },
   "file_extension": ".py",
   "mimetype": "text/x-python",
   "name": "python",
   "nbconvert_exporter": "python",
   "pygments_lexer": "ipython3",
   "version": "3.7.13"
  },
  "orig_nbformat": 4,
  "vscode": {
   "interpreter": {
    "hash": "b6f6d812eb8ff2e31293d170cddd5c8e045640f5f98450a4a81ed1895a3a33d2"
   }
  }
 },
 "nbformat": 4,
 "nbformat_minor": 2
}
