{
 "cells": [
  {
   "cell_type": "code",
   "execution_count": 1,
   "metadata": {},
   "outputs": [],
   "source": [
    "import torch \n",
    "import torch.nn as nn\n",
    "import matplotlib.pyplot as plt\n",
    "import numpy as np \n",
    "from torch.utils.data import DataLoader\n",
    "import torchvision\n",
    "import torch.nn.functional as F"
   ]
  },
  {
   "cell_type": "code",
   "execution_count": 2,
   "metadata": {},
   "outputs": [],
   "source": [
    "mnist_train=torchvision.datasets.MNIST(root='./mnist_train_data',train=True,download=True,transform=torchvision.transforms.ToTensor())\n",
    "mnist_test=torchvision.datasets.MNIST(root='./mnist_test_data',train=False,download=True,transform=torchvision.transforms.ToTensor())"
   ]
  },
  {
   "cell_type": "code",
   "execution_count": 3,
   "metadata": {},
   "outputs": [],
   "source": [
    "train_loader=DataLoader(mnist_train,batch_size=64)\n",
    "test_loader=DataLoader(mnist_test,batch_size=64)"
   ]
  },
  {
   "cell_type": "code",
   "execution_count": null,
   "metadata": {},
   "outputs": [],
   "source": [
    "for b,ex in enumerate(train_loader):\n",
    "    break"
   ]
  },
  {
   "cell_type": "code",
   "execution_count": 4,
   "metadata": {},
   "outputs": [
    {
     "ename": "NameError",
     "evalue": "name 'ex' is not defined",
     "output_type": "error",
     "traceback": [
      "\u001b[1;31m---------------------------------------------------------------------------\u001b[0m",
      "\u001b[1;31mNameError\u001b[0m                                 Traceback (most recent call last)",
      "\u001b[1;32m~\\AppData\\Local\\Temp\\ipykernel_7548\\3568625005.py\u001b[0m in \u001b[0;36m<module>\u001b[1;34m\u001b[0m\n\u001b[0;32m      1\u001b[0m \u001b[0mdat_f\u001b[0m\u001b[1;33m=\u001b[0m\u001b[0mnn\u001b[0m\u001b[1;33m.\u001b[0m\u001b[0mFlatten\u001b[0m\u001b[1;33m(\u001b[0m\u001b[1;33m)\u001b[0m\u001b[1;33m\u001b[0m\u001b[1;33m\u001b[0m\u001b[0m\n\u001b[1;32m----> 2\u001b[1;33m \u001b[0mdf\u001b[0m\u001b[1;33m=\u001b[0m\u001b[0mdat_f\u001b[0m\u001b[1;33m(\u001b[0m\u001b[0mex\u001b[0m\u001b[1;33m[\u001b[0m\u001b[1;36m0\u001b[0m\u001b[1;33m]\u001b[0m\u001b[1;33m)\u001b[0m\u001b[1;33m\u001b[0m\u001b[1;33m\u001b[0m\u001b[0m\n\u001b[0m",
      "\u001b[1;31mNameError\u001b[0m: name 'ex' is not defined"
     ]
    }
   ],
   "source": [
    "dat_f=nn.Flatten()\n",
    "df=dat_f(ex[0])"
   ]
  },
  {
   "cell_type": "code",
   "execution_count": 5,
   "metadata": {},
   "outputs": [],
   "source": [
    "class mnist_convnet(nn.Module):\n",
    "    def __init__(self):\n",
    "        super(mnist_convnet,self).__init__()\n",
    "        self.conv1=nn.Conv2d(1,6,(3,3),1) # no padding\n",
    "        self.conv2=nn.Conv2d(6,16,(3,3),1) # no padding\n",
    "        self.flat=nn.Flatten()\n",
    "        self.fc1=nn.Linear(5*5*16,120)\n",
    "        self.fc2=nn.Linear(120,60)\n",
    "        self.fc3=nn.Linear(60,10)\n",
    "    def forward(self,X):\n",
    "        l1=F.relu(self.conv1(X))\n",
    "        p1=F.max_pool2d(l1,(2,2))\n",
    "        l2=F.relu(self.conv2(p1))\n",
    "        p2=F.max_pool2d(l2,(2,2))\n",
    "        xf=self.flat(p2)\n",
    "        d1=F.relu(self.fc1(xf))\n",
    "        d2=F.relu(self.fc2(d1))\n",
    "        d3=self.fc3(d2)\n",
    "        return(d3)\n"
   ]
  },
  {
   "cell_type": "code",
   "execution_count": 7,
   "metadata": {},
   "outputs": [
    {
     "data": {
      "text/plain": [
       "mnist_convnet(\n",
       "  (conv1): Conv2d(1, 6, kernel_size=(3, 3), stride=(1, 1))\n",
       "  (conv2): Conv2d(6, 16, kernel_size=(3, 3), stride=(1, 1))\n",
       "  (flat): Flatten(start_dim=1, end_dim=-1)\n",
       "  (fc1): Linear(in_features=400, out_features=120, bias=True)\n",
       "  (fc2): Linear(in_features=120, out_features=60, bias=True)\n",
       "  (fc3): Linear(in_features=60, out_features=10, bias=True)\n",
       ")"
      ]
     },
     "execution_count": 7,
     "metadata": {},
     "output_type": "execute_result"
    }
   ],
   "source": [
    "torch.manual_seed(42)\n",
    "model=mnist_convnet()\n",
    "model"
   ]
  },
  {
   "cell_type": "code",
   "execution_count": 8,
   "metadata": {},
   "outputs": [],
   "source": [
    "crit=nn.CrossEntropyLoss()\n",
    "opt=torch.optim.Adam(model.parameters())"
   ]
  },
  {
   "cell_type": "code",
   "execution_count": 15,
   "metadata": {},
   "outputs": [],
   "source": [
    "for batch,ex in enumerate(train_loader):\n",
    "    break"
   ]
  },
  {
   "cell_type": "code",
   "execution_count": 9,
   "metadata": {},
   "outputs": [
    {
     "name": "stdout",
     "output_type": "stream",
     "text": [
      "___________________Epoch:0________________________\n",
      "Batch:0 Loss:2.3145\n",
      "Batch:100 Loss:0.6791\n",
      "Batch:200 Loss:0.2565\n",
      "Batch:300 Loss:0.3721\n",
      "Batch:400 Loss:0.1779\n",
      "Batch:500 Loss:0.1987\n",
      "Batch:600 Loss:0.1979\n",
      "Batch:700 Loss:0.2548\n",
      "Batch:800 Loss:0.2340\n",
      "Batch:900 Loss:0.2297\n",
      "___________________Epoch:1________________________\n",
      "Batch:0 Loss:0.0959\n",
      "Batch:100 Loss:0.1331\n",
      "Batch:200 Loss:0.0740\n",
      "Batch:300 Loss:0.2014\n",
      "Batch:400 Loss:0.0536\n",
      "Batch:500 Loss:0.1183\n",
      "Batch:600 Loss:0.1009\n",
      "Batch:700 Loss:0.0879\n",
      "Batch:800 Loss:0.2098\n",
      "Batch:900 Loss:0.1873\n",
      "___________________Epoch:2________________________\n",
      "Batch:0 Loss:0.0574\n",
      "Batch:100 Loss:0.1192\n",
      "Batch:200 Loss:0.0388\n",
      "Batch:300 Loss:0.1430\n",
      "Batch:400 Loss:0.0168\n",
      "Batch:500 Loss:0.0685\n",
      "Batch:600 Loss:0.0744\n",
      "Batch:700 Loss:0.0866\n",
      "Batch:800 Loss:0.1520\n",
      "Batch:900 Loss:0.1420\n",
      "___________________Epoch:3________________________\n",
      "Batch:0 Loss:0.0254\n",
      "Batch:100 Loss:0.0962\n",
      "Batch:200 Loss:0.0404\n",
      "Batch:300 Loss:0.0666\n",
      "Batch:400 Loss:0.0259\n",
      "Batch:500 Loss:0.0367\n",
      "Batch:600 Loss:0.0703\n",
      "Batch:700 Loss:0.0815\n",
      "Batch:800 Loss:0.1093\n",
      "Batch:900 Loss:0.1294\n",
      "___________________Epoch:4________________________\n",
      "Batch:0 Loss:0.0072\n",
      "Batch:100 Loss:0.0861\n",
      "Batch:200 Loss:0.0355\n",
      "Batch:300 Loss:0.0082\n",
      "Batch:400 Loss:0.0326\n",
      "Batch:500 Loss:0.0194\n",
      "Batch:600 Loss:0.0723\n",
      "Batch:700 Loss:0.0720\n",
      "Batch:800 Loss:0.1068\n",
      "Batch:900 Loss:0.0909\n"
     ]
    }
   ],
   "source": [
    "def train_single_epoch(d_loader,mod,opt,crit,disp_int=100):\n",
    "    loss_val=[]\n",
    "    for batch,ex in enumerate(d_loader):\n",
    "        opt.zero_grad()\n",
    "        pred=mod.forward(ex[0])\n",
    "        loss=crit(pred,ex[1])\n",
    "        loss_val.append(loss.item())\n",
    "        loss.backward()\n",
    "        opt.step()\n",
    "        if(batch%disp_int==0):\n",
    "            print(f'Batch:{batch} Loss:{loss_val[batch]:0.4f}')\n",
    "    return(loss_val,mod)\n",
    "\n",
    "def train_model(num_epochs,data_loader,mod,crit_func,disp_int=100):\n",
    "    \n",
    "    epoch_mean_loss=[]\n",
    "    epoch_raw_loss=[]\n",
    "    for epoch in range(num_epochs):\n",
    "        print(f'___________________Epoch:{epoch}________________________')\n",
    "        epoch_loss, model=train_single_epoch(data_loader,mod,opt,crit_func,disp_int)\n",
    "        epoch_mean_loss.append(np.mean(epoch_loss))\n",
    "        epoch_raw_loss.extend(epoch_loss)\n",
    "    return(model,epoch_raw_loss,epoch_mean_loss)\n",
    "\n"
   ]
  },
  {
   "cell_type": "code",
   "execution_count": 9,
   "metadata": {},
   "outputs": [
    {
     "data": {
      "text/plain": [
       "[<matplotlib.lines.Line2D at 0x25fb4eee848>]"
      ]
     },
     "execution_count": 9,
     "metadata": {},
     "output_type": "execute_result"
    },
    {
     "data": {
      "image/png": "[encoded data removed]",
      "text/plain": [
       "<Figure size 432x288 with 1 Axes>"
      ]
     },
     "metadata": {
      "needs_background": "light"
     },
     "output_type": "display_data"
    }
   ],
   "source": [
    "plt.plot(epoch_raw_loss)\n",
    "plt.plot(epoch_mean_loss)"
   ]
  },
  {
   "cell_type": "code",
   "execution_count": 17,
   "metadata": {},
   "outputs": [],
   "source": [
    "for batch,ex in enumerate(test_loader):\n",
    "    break"
   ]
  },
  {
   "cell_type": "code",
   "execution_count": 25,
   "metadata": {},
   "outputs": [
    {
     "data": {
      "text/plain": [
       "tensor([[1.9523e-09, 2.1383e-08, 2.8311e-07, 1.4206e-07, 3.9173e-11, 1.2904e-10,\n",
       "         8.3582e-15, 1.0000e+00, 3.5944e-10, 9.6380e-07],\n",
       "        [2.4459e-08, 1.6127e-04, 9.9984e-01, 1.1337e-07, 2.7062e-11, 8.0033e-11,\n",
       "         2.0839e-10, 9.8751e-10, 9.1764e-08, 3.2992e-12],\n",
       "        [1.7329e-06, 9.9992e-01, 2.0961e-06, 3.8348e-09, 3.7111e-05, 1.8677e-07,\n",
       "         2.0446e-07, 3.4806e-05, 5.6919e-06, 2.6021e-06],\n",
       "        [9.9999e-01, 2.0401e-08, 8.9940e-07, 1.4524e-09, 1.2920e-08, 8.4213e-07,\n",
       "         3.5984e-06, 8.2771e-08, 3.3773e-08, 1.9614e-06],\n",
       "        [5.2386e-06, 1.1565e-07, 4.8247e-06, 2.8788e-07, 9.9911e-01, 1.2142e-05,\n",
       "         1.8930e-07, 1.9551e-06, 3.2208e-06, 8.6517e-04],\n",
       "        [1.5534e-07, 9.9999e-01, 1.0664e-07, 8.5683e-11, 4.6242e-06, 1.6358e-09,\n",
       "         1.8611e-09, 8.5087e-06, 1.0059e-06, 4.1868e-07],\n",
       "        [4.1028e-09, 4.6897e-07, 2.2777e-08, 7.7415e-07, 9.9757e-01, 2.4933e-05,\n",
       "         5.3899e-09, 2.0621e-05, 9.6169e-04, 1.4215e-03],\n",
       "        [1.1030e-09, 2.6808e-06, 6.5916e-07, 8.1437e-05, 9.4848e-05, 5.1295e-05,\n",
       "         1.7625e-12, 2.2415e-06, 2.4063e-05, 9.9974e-01],\n",
       "        [1.3167e-07, 3.5507e-08, 9.7481e-07, 4.9486e-07, 8.9417e-05, 9.9915e-01,\n",
       "         3.4240e-04, 8.3092e-07, 3.6704e-04, 4.6762e-05],\n",
       "        [2.2867e-07, 2.8159e-09, 1.3261e-07, 1.5016e-05, 9.0156e-05, 1.0539e-07,\n",
       "         2.8387e-13, 7.5629e-04, 1.6907e-04, 9.9897e-01],\n",
       "        [1.0000e+00, 1.2985e-09, 2.4886e-06, 4.5947e-11, 9.6363e-12, 4.5259e-09,\n",
       "         9.0037e-09, 1.1861e-09, 1.4934e-09, 2.5832e-07],\n",
       "        [2.3050e-05, 1.7164e-10, 9.0165e-09, 1.9188e-10, 1.8571e-07, 2.8544e-04,\n",
       "         9.9967e-01, 6.8435e-11, 2.6090e-05, 4.6061e-09],\n",
       "        [1.2098e-08, 3.3432e-10, 4.8493e-09, 5.8188e-07, 3.8318e-06, 2.7049e-07,\n",
       "         3.8267e-14, 3.5027e-06, 3.8456e-06, 9.9999e-01],\n",
       "        [1.0000e+00, 1.7237e-09, 4.6731e-08, 5.1735e-11, 1.0882e-10, 3.1991e-08,\n",
       "         3.0654e-07, 3.7147e-09, 1.5513e-08, 3.2597e-07],\n",
       "        [5.3641e-07, 9.9999e-01, 2.0670e-07, 2.0363e-07, 2.4422e-06, 1.2208e-07,\n",
       "         5.9180e-08, 1.0868e-07, 7.3927e-06, 3.6196e-06],\n",
       "        [3.4671e-12, 3.0783e-08, 5.2572e-10, 1.0699e-03, 3.9111e-11, 9.9892e-01,\n",
       "         2.4215e-09, 2.5229e-09, 4.3833e-06, 1.7872e-06],\n",
       "        [3.2071e-08, 8.9772e-10, 9.8462e-09, 3.7549e-07, 1.3010e-05, 1.9693e-07,\n",
       "         5.8219e-13, 6.8856e-06, 3.2727e-06, 9.9998e-01],\n",
       "        [9.5372e-09, 6.4306e-09, 1.4337e-06, 7.3046e-09, 2.8558e-12, 2.3160e-11,\n",
       "         3.3318e-15, 1.0000e+00, 1.9023e-11, 6.8828e-07],\n",
       "        [2.2859e-08, 1.9037e-06, 2.0006e-05, 9.0526e-01, 6.9900e-08, 2.0287e-02,\n",
       "         8.3031e-08, 6.3112e-07, 7.4403e-02, 3.0405e-05],\n",
       "        [1.6173e-08, 1.8734e-08, 4.9714e-07, 6.4497e-09, 1.0000e+00, 7.7684e-08,\n",
       "         5.4969e-10, 1.2007e-07, 1.7868e-08, 1.9259e-06],\n",
       "        [2.3083e-07, 2.1789e-07, 4.2606e-08, 5.4127e-05, 2.0101e-05, 1.6466e-06,\n",
       "         9.3510e-14, 1.9813e-03, 1.6204e-06, 9.9794e-01],\n",
       "        [2.2808e-06, 3.6308e-09, 2.1917e-07, 3.5202e-07, 2.2090e-07, 5.1417e-02,\n",
       "         9.4774e-01, 5.9668e-11, 8.4202e-04, 2.2046e-07],\n",
       "        [1.3891e-04, 1.1103e-08, 8.2903e-08, 2.5326e-09, 4.0349e-05, 2.1530e-04,\n",
       "         9.9958e-01, 1.0935e-07, 2.1974e-05, 5.2027e-07],\n",
       "        [5.1195e-13, 1.5608e-11, 2.2554e-12, 1.2626e-05, 8.4443e-11, 9.9999e-01,\n",
       "         1.2702e-10, 1.4668e-11, 9.8160e-09, 1.5245e-06],\n",
       "        [8.0443e-07, 1.0721e-06, 6.3933e-06, 7.0735e-08, 9.9998e-01, 1.5410e-06,\n",
       "         2.3633e-08, 2.4171e-06, 1.5613e-07, 9.0592e-06],\n",
       "        [9.9997e-01, 1.3559e-08, 1.3314e-05, 6.9559e-10, 6.8458e-07, 1.2008e-07,\n",
       "         9.9858e-06, 3.7273e-07, 4.2236e-07, 4.8625e-06],\n",
       "        [1.3547e-05, 6.4869e-06, 1.7436e-04, 8.4354e-05, 2.5291e-07, 2.8476e-07,\n",
       "         4.6528e-10, 9.9891e-01, 2.8976e-07, 8.0617e-04],\n",
       "        [1.6338e-09, 2.4580e-10, 5.1556e-08, 7.7077e-10, 9.9999e-01, 3.6008e-08,\n",
       "         1.8302e-11, 4.5343e-09, 3.9425e-08, 1.0053e-05],\n",
       "        [9.9999e-01, 4.4540e-09, 8.6742e-06, 8.2105e-09, 3.2099e-10, 8.4970e-08,\n",
       "         1.1694e-07, 2.3993e-08, 9.6515e-08, 1.4845e-07],\n",
       "        [4.0952e-07, 9.9992e-01, 9.1375e-06, 9.7205e-08, 5.6452e-05, 1.4855e-07,\n",
       "         9.0374e-08, 1.6475e-06, 7.2928e-06, 4.8479e-07],\n",
       "        [1.7039e-13, 2.0215e-08, 5.2210e-11, 1.0000e+00, 4.1540e-11, 5.8764e-07,\n",
       "         1.9311e-15, 2.7328e-08, 1.0174e-08, 1.6960e-06],\n",
       "        [3.8203e-06, 9.9840e-01, 2.2274e-05, 4.0775e-07, 1.4031e-03, 1.9273e-07,\n",
       "         4.8730e-07, 9.5218e-06, 1.1472e-04, 4.1112e-05],\n",
       "        [4.8005e-16, 2.9071e-08, 1.0758e-11, 1.0000e+00, 1.0885e-11, 5.6515e-09,\n",
       "         5.6006e-16, 1.6256e-09, 3.5591e-10, 1.9991e-09],\n",
       "        [1.3460e-03, 2.1568e-07, 5.1153e-04, 5.7948e-10, 9.9808e-01, 1.6224e-05,\n",
       "         4.4637e-05, 3.7868e-06, 6.4961e-08, 1.6206e-06],\n",
       "        [9.6306e-12, 1.1975e-08, 1.4863e-06, 3.3443e-07, 1.8370e-12, 3.9480e-13,\n",
       "         3.8029e-17, 1.0000e+00, 1.8357e-09, 8.3965e-09],\n",
       "        [5.2192e-11, 2.5756e-06, 1.0000e+00, 1.7723e-08, 6.2025e-13, 3.6863e-13,\n",
       "         3.7469e-14, 3.3609e-07, 1.9957e-08, 4.0512e-10],\n",
       "        [8.0610e-06, 1.4066e-05, 5.6868e-02, 1.1340e-05, 1.5776e-09, 3.1561e-09,\n",
       "         7.3195e-10, 9.4310e-01, 3.0888e-07, 3.4064e-07],\n",
       "        [4.9101e-07, 9.9996e-01, 5.9675e-07, 2.0200e-09, 3.6467e-05, 1.1765e-08,\n",
       "         2.7949e-08, 1.9921e-07, 3.6204e-06, 9.6421e-07],\n",
       "        [1.3854e-06, 1.3933e-03, 9.9857e-01, 6.9873e-06, 2.2650e-09, 4.8725e-10,\n",
       "         1.9291e-09, 2.5372e-05, 5.3452e-07, 1.7831e-10],\n",
       "        [1.6110e-06, 9.9996e-01, 1.7644e-07, 5.6589e-10, 4.1899e-06, 4.1661e-08,\n",
       "         1.5644e-07, 5.6808e-08, 3.4089e-05, 4.5459e-07],\n",
       "        [2.9721e-04, 9.9155e-01, 9.3769e-04, 1.3053e-05, 1.4744e-03, 2.3299e-05,\n",
       "         1.5566e-05, 4.3863e-03, 4.2059e-04, 8.8216e-04],\n",
       "        [1.3251e-07, 2.5266e-05, 5.0636e-03, 1.4876e-04, 5.9439e-08, 1.3511e-09,\n",
       "         9.1288e-11, 9.9476e-01, 1.2344e-07, 3.6474e-07],\n",
       "        [3.1336e-09, 2.7256e-08, 1.0285e-10, 7.1294e-10, 9.9999e-01, 4.0287e-08,\n",
       "         1.3930e-10, 9.8981e-08, 1.2208e-06, 1.2730e-05],\n",
       "        [6.5466e-08, 2.2026e-05, 9.9996e-01, 1.8791e-06, 1.1924e-05, 1.7188e-07,\n",
       "         1.3770e-07, 1.1111e-06, 7.6478e-07, 2.9396e-10],\n",
       "        [9.7013e-10, 4.9010e-05, 9.8157e-07, 9.9994e-01, 1.3726e-06, 8.1328e-06,\n",
       "         1.4779e-09, 3.4122e-06, 7.8885e-08, 1.7358e-07],\n",
       "        [4.6485e-08, 7.1717e-09, 1.0462e-08, 4.5508e-05, 4.6365e-09, 9.9992e-01,\n",
       "         5.1008e-06, 3.9610e-09, 1.4749e-05, 9.9256e-06],\n",
       "        [1.0208e-07, 9.9916e-01, 8.8639e-06, 2.3195e-06, 1.7559e-04, 8.7253e-08,\n",
       "         2.3426e-08, 1.5552e-06, 6.3614e-04, 1.7039e-05],\n",
       "        [1.4880e-09, 2.0087e-08, 1.0000e+00, 3.1074e-08, 5.6669e-09, 6.2272e-11,\n",
       "         4.3541e-11, 1.8272e-09, 8.4290e-09, 8.2797e-12],\n",
       "        [1.3332e-08, 1.4698e-08, 1.5076e-08, 2.1978e-06, 9.8263e-01, 5.9437e-06,\n",
       "         4.6811e-11, 6.2593e-07, 2.1491e-05, 1.7340e-02],\n",
       "        [8.4574e-07, 1.2954e-08, 8.1337e-07, 4.1868e-07, 9.9953e-01, 1.3325e-05,\n",
       "         2.6660e-08, 2.2667e-06, 1.1064e-05, 4.4300e-04],\n",
       "        [7.8951e-05, 7.7823e-09, 1.8171e-07, 1.1179e-07, 8.0826e-07, 1.7319e-02,\n",
       "         9.8258e-01, 2.1708e-10, 1.9036e-05, 1.3404e-08],\n",
       "        [3.9104e-13, 2.8578e-08, 1.6884e-08, 1.0000e+00, 9.3531e-12, 3.8405e-10,\n",
       "         1.2094e-14, 7.6425e-09, 1.9498e-07, 1.9009e-09],\n",
       "        [7.5739e-14, 1.1240e-11, 2.6693e-13, 1.6363e-05, 5.3051e-11, 9.9998e-01,\n",
       "         1.4390e-11, 1.6260e-10, 1.1498e-08, 3.7654e-07],\n",
       "        [2.7035e-11, 1.8119e-08, 2.6262e-11, 7.3949e-04, 2.9563e-08, 9.9891e-01,\n",
       "         4.7492e-09, 4.7130e-08, 2.2702e-06, 3.4883e-04],\n",
       "        [3.8140e-07, 6.0197e-11, 3.6921e-10, 4.0631e-12, 1.9135e-07, 4.8910e-05,\n",
       "         9.9994e-01, 7.6714e-12, 1.2270e-05, 6.7802e-10],\n",
       "        [9.9999e-01, 1.9643e-08, 5.2558e-06, 7.3734e-09, 6.9945e-10, 5.0845e-07,\n",
       "         2.2597e-06, 5.2309e-09, 2.8347e-06, 4.3534e-08],\n",
       "        [1.3163e-09, 7.1734e-11, 6.5236e-11, 2.5374e-10, 1.0000e+00, 1.7752e-07,\n",
       "         8.2994e-10, 1.1149e-08, 3.1304e-08, 1.2017e-08],\n",
       "        [4.2604e-06, 9.9974e-01, 5.6593e-06, 8.1999e-09, 2.6420e-05, 4.6284e-08,\n",
       "         3.5477e-08, 2.1076e-04, 6.9277e-06, 7.1633e-06],\n",
       "        [2.6613e-09, 4.7977e-10, 6.1078e-09, 2.0897e-06, 4.6044e-06, 2.2845e-07,\n",
       "         9.9553e-15, 3.5808e-06, 5.4906e-07, 9.9999e-01],\n",
       "        [8.7230e-08, 7.9155e-08, 1.9175e-09, 1.8762e-04, 1.0588e-06, 9.9651e-01,\n",
       "         6.6411e-10, 2.7723e-03, 1.3259e-06, 5.2845e-04],\n",
       "        [6.0170e-09, 5.4430e-09, 2.6371e-06, 2.6695e-06, 8.0758e-10, 6.7289e-10,\n",
       "         7.1013e-13, 9.9999e-01, 2.3836e-09, 8.9342e-07],\n",
       "        [1.8564e-09, 1.0866e-10, 1.1770e-03, 6.7232e-05, 5.1292e-09, 1.1797e-05,\n",
       "         6.2578e-11, 3.1080e-09, 9.9872e-01, 1.9278e-05],\n",
       "        [8.7644e-07, 1.3366e-05, 3.3794e-05, 5.7620e-04, 2.4499e-04, 2.8440e-02,\n",
       "         2.2862e-07, 1.0515e-03, 7.0472e-03, 9.6259e-01],\n",
       "        [4.2543e-10, 3.3393e-09, 2.2894e-03, 9.9747e-01, 2.1361e-11, 2.3133e-08,\n",
       "         6.4604e-15, 2.5349e-08, 2.3079e-04, 1.3431e-05]],\n",
       "       grad_fn=<SoftmaxBackward0>)"
      ]
     },
     "execution_count": 25,
     "metadata": {},
     "output_type": "execute_result"
    }
   ],
   "source": [
    "cm=model.forward(ex[0])\n",
    "torch.softmax(cm,1)"
   ]
  },
  {
   "cell_type": "code",
   "execution_count": 34,
   "metadata": {},
   "outputs": [],
   "source": [
    "def eval_model(test_loader):\n",
    "\n",
    "    pred_lab=[]\n",
    "    pred_prob=[]\n",
    "    true_lab=[]\n",
    "    with torch.no_grad():\n",
    "        for batch,ex in enumerate(test_loader):\n",
    "            t_p=model.forward(ex[0])\n",
    "            t_p_prob=np.max(torch.softmax(t_p,1).detach().numpy(),axis=1)\n",
    "            t_p_lab=np.argmax(torch.softmax(t_p,1).detach().numpy(),axis=1)\n",
    "            pred_prob.extend(t_p_prob)\n",
    "            pred_lab.extend(t_p_lab)\n",
    "            true_lab.extend(ex[1].detach().numpy())\n",
    "    return pred_prob,pred_lab,true_lab\n"
   ]
  },
  {
   "cell_type": "code",
   "execution_count": 35,
   "metadata": {},
   "outputs": [],
   "source": [
    "pred_prob,pred_lab,true_lab=eval_model(test_loader)"
   ]
  },
  {
   "cell_type": "code",
   "execution_count": 37,
   "metadata": {},
   "outputs": [],
   "source": [
    "def confusion_mat(pred_lab,true_lab,num_classes,disp_flag=0):\n",
    "    cm=np.zeros([num_classes,num_classes])\n",
    "    k=0\n",
    "    for i in range(len(pred_lab)):\n",
    "        cm[true_lab[k],pred_lab[k]]+=1\n",
    "        k+=1\n",
    "    if(disp_flag==1):\n",
    "        print(cm)\n",
    "    return(cm)\n"
   ]
  },
  {
   "cell_type": "code",
   "execution_count": 38,
   "metadata": {},
   "outputs": [
    {
     "data": {
      "text/plain": [
       "array([[9.740e+02, 0.000e+00, 1.000e+00, 0.000e+00, 0.000e+00, 1.000e+00,\n",
       "        0.000e+00, 1.000e+00, 3.000e+00, 0.000e+00],\n",
       "       [0.000e+00, 1.132e+03, 1.000e+00, 0.000e+00, 0.000e+00, 0.000e+00,\n",
       "        0.000e+00, 2.000e+00, 0.000e+00, 0.000e+00],\n",
       "       [1.000e+00, 0.000e+00, 1.026e+03, 0.000e+00, 1.000e+00, 0.000e+00,\n",
       "        0.000e+00, 3.000e+00, 1.000e+00, 0.000e+00],\n",
       "       [1.000e+00, 0.000e+00, 0.000e+00, 1.004e+03, 0.000e+00, 2.000e+00,\n",
       "        0.000e+00, 1.000e+00, 2.000e+00, 0.000e+00],\n",
       "       [0.000e+00, 0.000e+00, 2.000e+00, 0.000e+00, 9.660e+02, 1.000e+00,\n",
       "        1.000e+00, 0.000e+00, 2.000e+00, 1.000e+01],\n",
       "       [2.000e+00, 0.000e+00, 1.000e+00, 8.000e+00, 0.000e+00, 8.760e+02,\n",
       "        0.000e+00, 2.000e+00, 0.000e+00, 3.000e+00],\n",
       "       [9.000e+00, 3.000e+00, 1.000e+00, 0.000e+00, 1.000e+00, 2.900e+01,\n",
       "        9.120e+02, 0.000e+00, 3.000e+00, 0.000e+00],\n",
       "       [0.000e+00, 1.000e+00, 5.000e+00, 1.000e+00, 0.000e+00, 0.000e+00,\n",
       "        0.000e+00, 1.016e+03, 1.000e+00, 4.000e+00],\n",
       "       [3.000e+00, 0.000e+00, 2.000e+00, 5.000e+00, 1.000e+00, 0.000e+00,\n",
       "        0.000e+00, 1.000e+00, 9.590e+02, 3.000e+00],\n",
       "       [1.000e+00, 1.000e+00, 0.000e+00, 2.000e+00, 3.000e+00, 0.000e+00,\n",
       "        0.000e+00, 3.000e+00, 5.000e+00, 9.940e+02]])"
      ]
     },
     "execution_count": 38,
     "metadata": {},
     "output_type": "execute_result"
    }
   ],
   "source": [
    "confusion_mat(pred_lab,true_lab,10)"
   ]
  }
 ],
 "metadata": {
  "kernelspec": {
   "display_name": "Python 3.7.13 ('venv_torch')",
   "language": "python",
   "name": "python3"
  },
  "language_info": {
   "codemirror_mode": {
    "name": "ipython",
    "version": 3
   },
   "file_extension": ".py",
   "mimetype": "text/x-python",
   "name": "python",
   "nbconvert_exporter": "python",
   "pygments_lexer": "ipython3",
   "version": "3.7.13"
  },
  "orig_nbformat": 4,
  "vscode": {
   "interpreter": {
    "hash": "b6f6d812eb8ff2e31293d170cddd5c8e045640f5f98450a4a81ed1895a3a33d2"
   }
  }
 },
 "nbformat": 4,
 "nbformat_minor": 2
}
