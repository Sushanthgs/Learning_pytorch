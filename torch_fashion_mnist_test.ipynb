{
 "cells": [
  {
   "cell_type": "code",
   "execution_count": 1,
   "metadata": {},
   "outputs": [],
   "source": [
    "import torch \n",
    "import torch.nn as nn\n",
    "import torch.nn.functional as F \n",
    "import numpy as np\n",
    "import torchvision\n",
    "import matplotlib.pyplot as plt\n"
   ]
  },
  {
   "cell_type": "code",
   "execution_count": 2,
   "metadata": {},
   "outputs": [],
   "source": [
    "train_data=torchvision.datasets.FashionMNIST(root='./FashionMnist_train',train=True,download=True,transform=torchvision.transforms.ToTensor())\n",
    "test_data=torchvision.datasets.FashionMNIST(root='./FashionMnist_test',train=False,download=True,transform=torchvision.transforms.ToTensor())"
   ]
  },
  {
   "cell_type": "code",
   "execution_count": 3,
   "metadata": {},
   "outputs": [],
   "source": [
    "BATCH_SIZE=64\n",
    "train_dataloader=torch.utils.data.DataLoader(train_data,batch_size=BATCH_SIZE,shuffle=True)\n",
    "test_dataloader=torch.utils.data.DataLoader(test_data,batch_size=BATCH_SIZE)"
   ]
  },
  {
   "cell_type": "code",
   "execution_count": 6,
   "metadata": {},
   "outputs": [],
   "source": [
    "class con_blk(nn.Module):\n",
    "    def __init__(self,in_ch,out_ch,k_size,str_val=1,p_size=(2,2)):\n",
    "        super(con_blk,self).__init__()\n",
    "        self.con=nn.Conv2d(in_ch,out_ch,k_size,str_val)\n",
    "        self.p_size=p_size\n",
    "    def forward(self,X):\n",
    "        C1=F.relu(self.con(X))\n",
    "        p1=F.max_pool2d(C1,self.p_size[0],self.p_size[1])\n",
    "        return(p1)\n"
   ]
  },
  {
   "cell_type": "code",
   "execution_count": 7,
   "metadata": {},
   "outputs": [],
   "source": [
    "class fashionmnist_convnet(nn.Module):\n",
    "    def __init__(self):\n",
    "        super(fashionmnist_convnet,self).__init__()\n",
    "        self.blk1=con_blk(1,6,3,1)\n",
    "        self.blk2=con_blk(6,16,3,1)\n",
    "        self.D1=nn.Linear(16*5*5,128)\n",
    "        self.D2=nn.Linear(128,64)\n",
    "        self.D3=nn.Linear(64,10)\n",
    "    def forward(self,X):\n",
    "        b1=self.blk1.forward(X)\n",
    "        b2=self.blk2.forward(b1)\n",
    "        bf=b2.view(-1,16*5*5)\n",
    "        D1=F.relu(self.D1(bf))\n",
    "        D2=F.relu(self.D2(D1))\n",
    "        D3=self.D3(D2)\n",
    "        return(D3)\n",
    "\n"
   ]
  },
  {
   "cell_type": "code",
   "execution_count": 8,
   "metadata": {},
   "outputs": [
    {
     "data": {
      "text/plain": [
       "fashionmnist_convnet(\n",
       "  (blk1): con_blk(\n",
       "    (con): Conv2d(1, 6, kernel_size=(3, 3), stride=(1, 1))\n",
       "  )\n",
       "  (blk2): con_blk(\n",
       "    (con): Conv2d(6, 16, kernel_size=(3, 3), stride=(1, 1))\n",
       "  )\n",
       "  (D1): Linear(in_features=400, out_features=128, bias=True)\n",
       "  (D2): Linear(in_features=128, out_features=64, bias=True)\n",
       "  (D3): Linear(in_features=64, out_features=10, bias=True)\n",
       ")"
      ]
     },
     "execution_count": 8,
     "metadata": {},
     "output_type": "execute_result"
    }
   ],
   "source": [
    "torch.manual_seed(101)\n",
    "model=fashionmnist_convnet()\n",
    "model"
   ]
  },
  {
   "cell_type": "code",
   "execution_count": 9,
   "metadata": {},
   "outputs": [],
   "source": [
    "crit=nn.CrossEntropyLoss()\n",
    "opt=torch.optim.Adam(model.parameters())"
   ]
  },
  {
   "cell_type": "code",
   "execution_count": 10,
   "metadata": {},
   "outputs": [
    {
     "name": "stdout",
     "output_type": "stream",
     "text": [
      "_____________Epoch:0________________\n",
      "Batch:0 Loss:2.3041\n",
      "Batch:100 Loss:0.9213\n",
      "Batch:200 Loss:0.8354\n",
      "Batch:300 Loss:0.6852\n",
      "Batch:400 Loss:0.9265\n",
      "Batch:500 Loss:0.7243\n",
      "Batch:600 Loss:0.5476\n",
      "Batch:700 Loss:0.6673\n",
      "Batch:800 Loss:0.5448\n",
      "Batch:900 Loss:0.5232\n",
      "_____________Epoch:1________________\n",
      "Batch:0 Loss:0.4084\n",
      "Batch:100 Loss:0.5967\n",
      "Batch:200 Loss:0.4644\n",
      "Batch:300 Loss:0.5417\n",
      "Batch:400 Loss:0.3991\n",
      "Batch:500 Loss:0.3867\n",
      "Batch:600 Loss:0.4255\n",
      "Batch:700 Loss:0.5719\n",
      "Batch:800 Loss:0.5249\n",
      "Batch:900 Loss:0.4916\n",
      "_____________Epoch:2________________\n",
      "Batch:0 Loss:0.3369\n",
      "Batch:100 Loss:0.4118\n",
      "Batch:200 Loss:0.3416\n",
      "Batch:300 Loss:0.4981\n",
      "Batch:400 Loss:0.2497\n",
      "Batch:500 Loss:0.4817\n",
      "Batch:600 Loss:0.4367\n",
      "Batch:700 Loss:0.4093\n",
      "Batch:800 Loss:0.3854\n",
      "Batch:900 Loss:0.3468\n",
      "_____________Epoch:3________________\n",
      "Batch:0 Loss:0.3966\n",
      "Batch:100 Loss:0.4176\n",
      "Batch:200 Loss:0.3477\n",
      "Batch:300 Loss:0.4234\n",
      "Batch:400 Loss:0.4164\n",
      "Batch:500 Loss:0.4895\n",
      "Batch:600 Loss:0.2158\n",
      "Batch:700 Loss:0.2599\n",
      "Batch:800 Loss:0.2191\n",
      "Batch:900 Loss:0.2535\n",
      "_____________Epoch:4________________\n",
      "Batch:0 Loss:0.2902\n",
      "Batch:100 Loss:0.4793\n",
      "Batch:200 Loss:0.3748\n",
      "Batch:300 Loss:0.3904\n",
      "Batch:400 Loss:0.2160\n",
      "Batch:500 Loss:0.4312\n",
      "Batch:600 Loss:0.2153\n",
      "Batch:700 Loss:0.3181\n",
      "Batch:800 Loss:0.6191\n",
      "Batch:900 Loss:0.2449\n",
      "_____________Epoch:5________________\n",
      "Batch:0 Loss:0.5078\n",
      "Batch:100 Loss:0.5484\n",
      "Batch:200 Loss:0.3268\n",
      "Batch:300 Loss:0.2293\n",
      "Batch:400 Loss:0.3653\n",
      "Batch:500 Loss:0.2222\n",
      "Batch:600 Loss:0.3993\n",
      "Batch:700 Loss:0.3590\n",
      "Batch:800 Loss:0.4067\n",
      "Batch:900 Loss:0.4289\n",
      "_____________Epoch:6________________\n",
      "Batch:0 Loss:0.2133\n",
      "Batch:100 Loss:0.3224\n",
      "Batch:200 Loss:0.2959\n",
      "Batch:300 Loss:0.1292\n",
      "Batch:400 Loss:0.2589\n",
      "Batch:500 Loss:0.2385\n",
      "Batch:600 Loss:0.3263\n",
      "Batch:700 Loss:0.3065\n",
      "Batch:800 Loss:0.1734\n",
      "Batch:900 Loss:0.2778\n",
      "_____________Epoch:7________________\n",
      "Batch:0 Loss:0.2621\n",
      "Batch:100 Loss:0.2331\n",
      "Batch:200 Loss:0.3384\n",
      "Batch:300 Loss:0.2300\n",
      "Batch:400 Loss:0.4419\n",
      "Batch:500 Loss:0.2190\n",
      "Batch:600 Loss:0.3139\n",
      "Batch:700 Loss:0.3463\n",
      "Batch:800 Loss:0.1984\n",
      "Batch:900 Loss:0.3152\n",
      "_____________Epoch:8________________\n",
      "Batch:0 Loss:0.2003\n",
      "Batch:100 Loss:0.4108\n",
      "Batch:200 Loss:0.3445\n",
      "Batch:300 Loss:0.3072\n",
      "Batch:400 Loss:0.3343\n",
      "Batch:500 Loss:0.1721\n",
      "Batch:600 Loss:0.2975\n",
      "Batch:700 Loss:0.2482\n",
      "Batch:800 Loss:0.1876\n",
      "Batch:900 Loss:0.1482\n",
      "_____________Epoch:9________________\n",
      "Batch:0 Loss:0.2309\n",
      "Batch:100 Loss:0.1880\n",
      "Batch:200 Loss:0.2014\n",
      "Batch:300 Loss:0.3107\n",
      "Batch:400 Loss:0.2541\n",
      "Batch:500 Loss:0.1709\n",
      "Batch:600 Loss:0.2210\n",
      "Batch:700 Loss:0.3255\n",
      "Batch:800 Loss:0.4196\n",
      "Batch:900 Loss:0.1932\n"
     ]
    }
   ],
   "source": [
    "def train_single_epoch(d_loader,mod,opt,crit,disp_int=100):\n",
    "    running_batch_loss=[]\n",
    "    for b,ex in enumerate(d_loader):\n",
    "        opt.zero_grad()\n",
    "        pred=mod.forward(ex[0])\n",
    "        loss=crit(pred,ex[1])\n",
    "        running_batch_loss.append(loss.item())\n",
    "        loss.backward()\n",
    "        opt.step()\n",
    "        if(b%disp_int==0):\n",
    "            print(f'Batch:{b} Loss:{loss.item():0.4f}')\n",
    "    return(mod,running_batch_loss)\n",
    "def train_model(epochs,d_loader,mod,opt,crit,disp_int=100):\n",
    "    running_epoch_loss=[]\n",
    "    for i in range(epochs):\n",
    "        print(f'_____________Epoch:{i}________________')\n",
    "        mod,running_batch_loss=train_single_epoch(d_loader,mod,opt,crit,disp_int)\n",
    "        running_epoch_loss.extend(running_batch_loss)\n",
    "    return(mod,running_epoch_loss)\n",
    "num_epochs=10\n",
    "mod,running_epoch_loss=train_model(num_epochs,train_dataloader,model,opt,crit)"
   ]
  },
  {
   "cell_type": "code",
   "execution_count": 11,
   "metadata": {},
   "outputs": [
    {
     "data": {
      "text/plain": [
       "[<matplotlib.lines.Line2D at 0x2d1dc5891c8>]"
      ]
     },
     "execution_count": 11,
     "metadata": {},
     "output_type": "execute_result"
    },
    {
     "data": {
      "image/png": "[encoded data removed]",
      "text/plain": [
       "<Figure size 432x288 with 1 Axes>"
      ]
     },
     "metadata": {
      "needs_background": "light"
     },
     "output_type": "display_data"
    }
   ],
   "source": [
    "plt.plot(running_epoch_loss)"
   ]
  },
  {
   "cell_type": "code",
   "execution_count": 12,
   "metadata": {},
   "outputs": [],
   "source": [
    "def eval_model(d_loader,mod):\n",
    "    true_labels=[]\n",
    "    pred_labels=[]\n",
    "    pred_probs=[]\n",
    "    for b,ex in enumerate(d_loader):\n",
    "        pred=mod.forward(ex[0])\n",
    "        pred_p=torch.softmax(pred,1)\n",
    "        probs=np.max(pred_p.detach().numpy(),axis=1)\n",
    "        labs=np.argmax(pred_p.detach().numpy(),axis=1)\n",
    "        pred_labels.extend(labs)\n",
    "        pred_probs.extend(probs)\n",
    "        true_labels.extend(ex[1].detach().numpy())\n",
    "    return(pred_labels,pred_probs,true_labels)\n"
   ]
  },
  {
   "cell_type": "code",
   "execution_count": 14,
   "metadata": {},
   "outputs": [],
   "source": [
    "pred_labels_train,pred_probs_train,true_labels_train=eval_model(train_dataloader,model)\n",
    "pred_labels_test,pred_probs_test,true_labels_test=eval_model(test_dataloader,model)"
   ]
  },
  {
   "cell_type": "code",
   "execution_count": 15,
   "metadata": {},
   "outputs": [],
   "source": [
    "def get_conf_mat(pred_labels,true_labels,num_classes):\n",
    "    cm=np.zeros([num_classes,num_classes])\n",
    "    for k in range(len(pred_labels)):\n",
    "        cm[true_labels[k],pred_labels[k]]+=1 \n",
    "    return(cm)\n",
    "train_conf_mat=get_conf_mat(pred_labels_train,true_labels_train,10)\n",
    "test_conf_mat=get_conf_mat(pred_labels_test,true_labels_test,10)"
   ]
  },
  {
   "cell_type": "code",
   "execution_count": 16,
   "metadata": {},
   "outputs": [],
   "source": [
    "train_acc=np.sum(np.diag(train_conf_mat))/np.sum(train_conf_mat)\n",
    "test_acc=np.sum(np.diag(test_conf_mat))/np.sum(test_conf_mat)"
   ]
  }
 ],
 "metadata": {
  "kernelspec": {
   "display_name": "Python 3.7.13 ('venv_torch')",
   "language": "python",
   "name": "python3"
  },
  "language_info": {
   "codemirror_mode": {
    "name": "ipython",
    "version": 3
   },
   "file_extension": ".py",
   "mimetype": "text/x-python",
   "name": "python",
   "nbconvert_exporter": "python",
   "pygments_lexer": "ipython3",
   "version": "3.7.13"
  },
  "orig_nbformat": 4,
  "vscode": {
   "interpreter": {
    "hash": "b6f6d812eb8ff2e31293d170cddd5c8e045640f5f98450a4a81ed1895a3a33d2"
   }
  }
 },
 "nbformat": 4,
 "nbformat_minor": 2
}
